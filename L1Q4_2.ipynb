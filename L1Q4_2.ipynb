{
 "cells": [
  {
   "cell_type": "code",
   "execution_count": 1,
   "id": "dd8acb7c",
   "metadata": {},
   "outputs": [],
   "source": [
    "import turtle"
   ]
  },
  {
   "cell_type": "code",
   "execution_count": 2,
   "id": "ce9e690b",
   "metadata": {},
   "outputs": [],
   "source": [
    "s = turtle.getscreen()"
   ]
  },
  {
   "cell_type": "code",
   "execution_count": 3,
   "id": "62477e66",
   "metadata": {},
   "outputs": [],
   "source": [
    "tess = turtle.Turtle()"
   ]
  },
  {
   "cell_type": "code",
   "execution_count": 4,
   "id": "12c3bf0e",
   "metadata": {},
   "outputs": [],
   "source": [
    "size = 2"
   ]
  },
  {
   "cell_type": "code",
   "execution_count": 5,
   "id": "022b54f5",
   "metadata": {},
   "outputs": [],
   "source": [
    "for i in range(20):\n",
    "    tess.right(89)\n",
    "    tess.forward(size)\n",
    "    size += 2\n",
    "    tess.right(89)\n",
    "    tess.forward(size)\n",
    "    size += 2\n",
    "    tess.right(89)\n",
    "    tess.forward(size)\n",
    "    size += 2\n",
    "    tess.right(89)\n",
    "    tess.forward(size)\n",
    "    size += 2"
   ]
  },
  {
   "cell_type": "code",
   "execution_count": 6,
   "id": "eca920fc",
   "metadata": {},
   "outputs": [],
   "source": [
    "s.bye()"
   ]
  },
  {
   "cell_type": "code",
   "execution_count": null,
   "id": "7b8e51a6",
   "metadata": {},
   "outputs": [],
   "source": []
  }
 ],
 "metadata": {
  "kernelspec": {
   "display_name": "Python 3 (ipykernel)",
   "language": "python",
   "name": "python3"
  },
  "language_info": {
   "codemirror_mode": {
    "name": "ipython",
    "version": 3
   },
   "file_extension": ".py",
   "mimetype": "text/x-python",
   "name": "python",
   "nbconvert_exporter": "python",
   "pygments_lexer": "ipython3",
   "version": "3.9.12"
  }
 },
 "nbformat": 4,
 "nbformat_minor": 5
}
