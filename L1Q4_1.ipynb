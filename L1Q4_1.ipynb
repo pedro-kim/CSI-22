{
 "cells": [
  {
   "cell_type": "code",
   "execution_count": 1,
   "id": "882f09e5",
   "metadata": {},
   "outputs": [],
   "source": [
    "import turtle"
   ]
  },
  {
   "cell_type": "code",
   "execution_count": 2,
   "id": "78046de8",
   "metadata": {},
   "outputs": [],
   "source": [
    "s = turtle.getscreen()"
   ]
  },
  {
   "cell_type": "code",
   "execution_count": 3,
   "id": "80c7bda7",
   "metadata": {},
   "outputs": [],
   "source": [
    "tess = turtle.Turtle()"
   ]
  },
  {
   "cell_type": "code",
   "execution_count": 4,
   "id": "ac47a10a",
   "metadata": {},
   "outputs": [],
   "source": [
    "size = 2"
   ]
  },
  {
   "cell_type": "code",
   "execution_count": 5,
   "id": "86ca472d",
   "metadata": {},
   "outputs": [],
   "source": [
    "for i in range(20):\n",
    "    tess.right(90)\n",
    "    tess.forward(size)\n",
    "    size += 2\n",
    "    tess.right(90)\n",
    "    tess.forward(size)\n",
    "    size += 2\n",
    "    tess.right(90)\n",
    "    tess.forward(size)\n",
    "    size += 2\n",
    "    tess.right(90)\n",
    "    tess.forward(size)\n",
    "    size += 2"
   ]
  },
  {
   "cell_type": "code",
   "execution_count": 6,
   "id": "29cd5c02",
   "metadata": {},
   "outputs": [],
   "source": [
    "s.bye()"
   ]
  },
  {
   "cell_type": "code",
   "execution_count": null,
   "id": "5a22d256",
   "metadata": {},
   "outputs": [],
   "source": []
  }
 ],
 "metadata": {
  "kernelspec": {
   "display_name": "Python 3 (ipykernel)",
   "language": "python",
   "name": "python3"
  },
  "language_info": {
   "codemirror_mode": {
    "name": "ipython",
    "version": 3
   },
   "file_extension": ".py",
   "mimetype": "text/x-python",
   "name": "python",
   "nbconvert_exporter": "python",
   "pygments_lexer": "ipython3",
   "version": "3.9.12"
  }
 },
 "nbformat": 4,
 "nbformat_minor": 5
}
