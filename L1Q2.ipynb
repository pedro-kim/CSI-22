{
 "cells": [
  {
   "cell_type": "code",
   "execution_count": 1,
   "id": "3829eeb1",
   "metadata": {},
   "outputs": [],
   "source": [
    "import turtle"
   ]
  },
  {
   "cell_type": "code",
   "execution_count": 2,
   "id": "95e8680b",
   "metadata": {},
   "outputs": [],
   "source": [
    "s = turtle.getscreen()"
   ]
  },
  {
   "cell_type": "code",
   "execution_count": 3,
   "id": "7933e220",
   "metadata": {},
   "outputs": [],
   "source": [
    "tess = turtle.Turtle()"
   ]
  },
  {
   "cell_type": "code",
   "execution_count": 4,
   "id": "5cf3aeb8",
   "metadata": {},
   "outputs": [],
   "source": [
    "def draw_poly(t,n,sz):\n",
    "    int_angle = (n-2)*180/n\n",
    "    for i in range(n):\n",
    "        t.forward(sz)\n",
    "        t.left(180 - int_angle)   "
   ]
  },
  {
   "cell_type": "code",
   "execution_count": 5,
   "id": "eed66e04",
   "metadata": {},
   "outputs": [],
   "source": [
    "draw_poly(tess,8,50)"
   ]
  },
  {
   "cell_type": "code",
   "execution_count": 6,
   "id": "391dcba6",
   "metadata": {},
   "outputs": [],
   "source": [
    "s.bye()"
   ]
  },
  {
   "cell_type": "code",
   "execution_count": null,
   "id": "2746923f",
   "metadata": {},
   "outputs": [],
   "source": []
  }
 ],
 "metadata": {
  "kernelspec": {
   "display_name": "Python 3 (ipykernel)",
   "language": "python",
   "name": "python3"
  },
  "language_info": {
   "codemirror_mode": {
    "name": "ipython",
    "version": 3
   },
   "file_extension": ".py",
   "mimetype": "text/x-python",
   "name": "python",
   "nbconvert_exporter": "python",
   "pygments_lexer": "ipython3",
   "version": "3.9.12"
  }
 },
 "nbformat": 4,
 "nbformat_minor": 5
}
