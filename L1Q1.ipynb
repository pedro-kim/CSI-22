{
 "cells": [
  {
   "cell_type": "code",
   "execution_count": 1,
   "id": "a36ac20a",
   "metadata": {},
   "outputs": [],
   "source": [
    "import turtle"
   ]
  },
  {
   "cell_type": "code",
   "execution_count": 2,
   "id": "0388ec47",
   "metadata": {},
   "outputs": [],
   "source": [
    "s = turtle.getscreen()"
   ]
  },
  {
   "cell_type": "code",
   "execution_count": 3,
   "id": "285d6620",
   "metadata": {},
   "outputs": [],
   "source": [
    "t = turtle.Turtle()"
   ]
  },
  {
   "cell_type": "code",
   "execution_count": 4,
   "id": "943ba5f3",
   "metadata": {},
   "outputs": [],
   "source": [
    "for i in range(0,5):\n",
    "    #Position the turtle:\n",
    "    t.penup()\n",
    "    t.goto(10+10*i,10+10*i)\n",
    "    #Draw the square:\n",
    "    t.pendown()\n",
    "    t.right(90)\n",
    "    t.forward(20+20*i)\n",
    "    t.right(90)\n",
    "    t.forward(20+20*i)\n",
    "    t.right(90)\n",
    "    t.forward(20+20*i)\n",
    "    t.right(90)\n",
    "    t.forward(20+20*i)"
   ]
  },
  {
   "cell_type": "code",
   "execution_count": null,
   "id": "3487457e",
   "metadata": {},
   "outputs": [],
   "source": [
    "s.bye()"
   ]
  }
 ],
 "metadata": {
  "kernelspec": {
   "display_name": "Python 3 (ipykernel)",
   "language": "python",
   "name": "python3"
  },
  "language_info": {
   "codemirror_mode": {
    "name": "ipython",
    "version": 3
   },
   "file_extension": ".py",
   "mimetype": "text/x-python",
   "name": "python",
   "nbconvert_exporter": "python",
   "pygments_lexer": "ipython3",
   "version": "3.9.12"
  }
 },
 "nbformat": 4,
 "nbformat_minor": 5
}
